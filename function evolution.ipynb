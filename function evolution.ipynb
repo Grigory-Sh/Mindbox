{
 "cells": [
  {
   "cell_type": "code",
   "execution_count": 1,
   "metadata": {},
   "outputs": [],
   "source": [
    "n_customers = 7412567\n",
    "\n",
    "n_first_id = 13687"
   ]
  },
  {
   "cell_type": "code",
   "execution_count": 2,
   "metadata": {},
   "outputs": [],
   "source": [
    "def func_1_v_1(n_customers):\n",
    "    groups = {}\n",
    "    for i in range(n_customers):\n",
    "        group = sum(map(int, list(str(i))))\n",
    "        groups[f'group_{group}'] = groups.get(f'group_{group}', 0) + 1\n",
    "    return groups"
   ]
  },
  {
   "cell_type": "code",
   "execution_count": 3,
   "metadata": {},
   "outputs": [],
   "source": [
    "def func_2_v_1(n_customers, n_first_id):\n",
    "    groups = {}\n",
    "    for i in range(n_first_id, n_first_id+n_customers):\n",
    "        group = sum(map(int, list(str(i))))\n",
    "        groups[f'group_{group}'] = groups.get(f'group_{group}', 0) + 1\n",
    "    return groups"
   ]
  },
  {
   "cell_type": "code",
   "execution_count": 4,
   "metadata": {},
   "outputs": [
    {
     "name": "stdout",
     "output_type": "stream",
     "text": [
      "{'group_0': 1, 'group_1': 7, 'group_2': 28, 'group_3': 84, 'group_4': 210, 'group_5': 462, 'group_6': 924, 'group_7': 1716, 'group_8': 3002, 'group_9': 4998, 'group_10': 7974, 'group_11': 12250, 'group_12': 18185, 'group_13': 26159, 'group_14': 36550, 'group_15': 49704, 'group_16': 65901, 'group_17': 85315, 'group_18': 107974, 'group_19': 133720, 'group_20': 162183, 'group_21': 192774, 'group_22': 224695, 'group_23': 256967, 'group_24': 288471, 'group_25': 318004, 'group_26': 344346, 'group_27': 366343, 'group_28': 382984, 'group_29': 393483, 'group_30': 397338, 'group_31': 394366, 'group_32': 384710, 'group_33': 368830, 'group_34': 347465, 'group_35': 321589, 'group_36': 292338, 'group_37': 260933, 'group_38': 228599, 'group_39': 196484, 'group_40': 165596, 'group_41': 136758, 'group_42': 110586, 'group_43': 87480, 'group_44': 67630, 'group_45': 51035, 'group_46': 37538, 'group_47': 26866, 'group_48': 18670, 'group_49': 12565, 'group_50': 8164, 'group_51': 5102, 'group_52': 3052, 'group_53': 1736, 'group_54': 930, 'group_55': 463, 'group_56': 210, 'group_57': 84, 'group_58': 28, 'group_59': 7, 'group_60': 1}\n",
      "\n",
      "{'group_25': 318242, 'group_26': 344770, 'group_27': 366933, 'group_19': 132944, 'group_20': 161522, 'group_21': 192260, 'group_22': 224353, 'group_23': 256813, 'group_24': 288513, 'group_28': 383711, 'group_11': 11704, 'group_12': 17541, 'group_13': 25426, 'group_14': 35743, 'group_15': 48843, 'group_16': 65011, 'group_17': 84426, 'group_18': 107121, 'group_29': 394310, 'group_30': 398225, 'group_31': 395275, 'group_5': 372, 'group_6': 788, 'group_7': 1522, 'group_8': 2737, 'group_9': 4648, 'group_10': 7528, 'group_32': 385606, 'group_33': 369681, 'group_34': 348246, 'group_35': 322281, 'group_36': 292931, 'group_37': 261423, 'group_2': 14, 'group_3': 54, 'group_4': 155, 'group_38': 228989, 'group_39': 196783, 'group_40': 165816, 'group_41': 136913, 'group_42': 110690, 'group_43': 87546, 'group_44': 67669, 'group_45': 51056, 'group_1': 2, 'group_46': 37548, 'group_47': 26870, 'group_48': 18671, 'group_49': 12565, 'group_50': 8164, 'group_51': 5102, 'group_52': 3052, 'group_53': 1736, 'group_54': 930, 'group_55': 463, 'group_56': 210, 'group_57': 84, 'group_58': 28, 'group_59': 7, 'group_60': 1}\n",
      "\n",
      "CPU times: total: 22.1 s\n",
      "Wall time: 22.1 s\n"
     ]
    }
   ],
   "source": [
    "%%time\n",
    "\n",
    "print(func_1_v_1(n_customers))\n",
    "print()\n",
    "print(func_2_v_1(n_customers, n_first_id))\n",
    "print()"
   ]
  },
  {
   "cell_type": "code",
   "execution_count": 5,
   "metadata": {},
   "outputs": [],
   "source": [
    "def func_1_v_2(n_customers):\n",
    "    groups = {}\n",
    "    for i in range(n_customers):\n",
    "        group = 0\n",
    "        while i > 0:\n",
    "            group += i % 10\n",
    "            i //= 10\n",
    "        groups[f'group_{group}'] = groups.get(f'group_{group}', 0) + 1\n",
    "    return groups"
   ]
  },
  {
   "cell_type": "code",
   "execution_count": 6,
   "metadata": {},
   "outputs": [],
   "source": [
    "def func_2_v_2(n_customers, n_first_id):\n",
    "    groups = {}\n",
    "    for i in range(n_first_id, n_first_id+n_customers):\n",
    "        group = 0\n",
    "        while i > 0:\n",
    "            group += i % 10\n",
    "            i //= 10\n",
    "        groups[f'group_{group}'] = groups.get(f'group_{group}', 0) + 1\n",
    "    return groups"
   ]
  },
  {
   "cell_type": "code",
   "execution_count": 7,
   "metadata": {},
   "outputs": [
    {
     "name": "stdout",
     "output_type": "stream",
     "text": [
      "{'group_0': 1, 'group_1': 7, 'group_2': 28, 'group_3': 84, 'group_4': 210, 'group_5': 462, 'group_6': 924, 'group_7': 1716, 'group_8': 3002, 'group_9': 4998, 'group_10': 7974, 'group_11': 12250, 'group_12': 18185, 'group_13': 26159, 'group_14': 36550, 'group_15': 49704, 'group_16': 65901, 'group_17': 85315, 'group_18': 107974, 'group_19': 133720, 'group_20': 162183, 'group_21': 192774, 'group_22': 224695, 'group_23': 256967, 'group_24': 288471, 'group_25': 318004, 'group_26': 344346, 'group_27': 366343, 'group_28': 382984, 'group_29': 393483, 'group_30': 397338, 'group_31': 394366, 'group_32': 384710, 'group_33': 368830, 'group_34': 347465, 'group_35': 321589, 'group_36': 292338, 'group_37': 260933, 'group_38': 228599, 'group_39': 196484, 'group_40': 165596, 'group_41': 136758, 'group_42': 110586, 'group_43': 87480, 'group_44': 67630, 'group_45': 51035, 'group_46': 37538, 'group_47': 26866, 'group_48': 18670, 'group_49': 12565, 'group_50': 8164, 'group_51': 5102, 'group_52': 3052, 'group_53': 1736, 'group_54': 930, 'group_55': 463, 'group_56': 210, 'group_57': 84, 'group_58': 28, 'group_59': 7, 'group_60': 1}\n",
      "\n",
      "{'group_25': 318242, 'group_26': 344770, 'group_27': 366933, 'group_19': 132944, 'group_20': 161522, 'group_21': 192260, 'group_22': 224353, 'group_23': 256813, 'group_24': 288513, 'group_28': 383711, 'group_11': 11704, 'group_12': 17541, 'group_13': 25426, 'group_14': 35743, 'group_15': 48843, 'group_16': 65011, 'group_17': 84426, 'group_18': 107121, 'group_29': 394310, 'group_30': 398225, 'group_31': 395275, 'group_5': 372, 'group_6': 788, 'group_7': 1522, 'group_8': 2737, 'group_9': 4648, 'group_10': 7528, 'group_32': 385606, 'group_33': 369681, 'group_34': 348246, 'group_35': 322281, 'group_36': 292931, 'group_37': 261423, 'group_2': 14, 'group_3': 54, 'group_4': 155, 'group_38': 228989, 'group_39': 196783, 'group_40': 165816, 'group_41': 136913, 'group_42': 110690, 'group_43': 87546, 'group_44': 67669, 'group_45': 51056, 'group_1': 2, 'group_46': 37548, 'group_47': 26870, 'group_48': 18671, 'group_49': 12565, 'group_50': 8164, 'group_51': 5102, 'group_52': 3052, 'group_53': 1736, 'group_54': 930, 'group_55': 463, 'group_56': 210, 'group_57': 84, 'group_58': 28, 'group_59': 7, 'group_60': 1}\n",
      "\n",
      "CPU times: total: 14.5 s\n",
      "Wall time: 14.5 s\n"
     ]
    }
   ],
   "source": [
    "%%time\n",
    "\n",
    "print(func_1_v_2(n_customers))\n",
    "print()\n",
    "print(func_2_v_2(n_customers, n_first_id))\n",
    "print()"
   ]
  },
  {
   "cell_type": "code",
   "execution_count": 8,
   "metadata": {},
   "outputs": [],
   "source": [
    "def func_1_v_3(n_customers: int) -> dict:\n",
    "    groups = {'group_0': 1}\n",
    "    group = 0\n",
    "    for i in range(1, 7412567):\n",
    "        group += 1\n",
    "        if i % 10 ** 9 == 0:\n",
    "            group -= 9 * 9\n",
    "        elif i % 10 ** 8 == 0:\n",
    "            group -= 9 * 8\n",
    "        elif i % 10 ** 7 == 0:\n",
    "            group -= 9 * 7\n",
    "        elif i % 10 ** 6 == 0:\n",
    "            group -= 9 * 6\n",
    "        elif i % 10 ** 5 == 0:\n",
    "            group -= 9 * 5\n",
    "        elif i % 10 ** 4 == 0:\n",
    "            group -= 9 * 4\n",
    "        elif i % 10 ** 3 == 0:\n",
    "            group -= 9 * 3\n",
    "        elif i % 10 ** 2 == 0:\n",
    "            group -= 9 * 2\n",
    "        elif i % 10 ** 1 == 0:\n",
    "            group -= 9\n",
    "        groups[f'group_{group}'] = groups.get(f'group_{group}', 0) + 1\n",
    "    return groups"
   ]
  },
  {
   "cell_type": "code",
   "execution_count": 9,
   "metadata": {},
   "outputs": [],
   "source": [
    "def func_2_v_3(n_customers: int, n_first_id: int) -> dict:\n",
    "    group = 0\n",
    "    s = n_first_id\n",
    "    while s > 0:\n",
    "        group += s % 10\n",
    "        s //= 10\n",
    "    groups = {f'group_{group}': 1}\n",
    "    for i in range(n_first_id+1, n_first_id+n_customers):\n",
    "        group += 1\n",
    "        if i % 10 ** 9 == 0:\n",
    "            group -= 9 * 9\n",
    "        elif i % 10 ** 8 == 0:\n",
    "            group -= 9 * 8\n",
    "        elif i % 10 ** 7 == 0:\n",
    "            group -= 9 * 7\n",
    "        elif i % 10 ** 6 == 0:\n",
    "            group -= 9 * 6\n",
    "        elif i % 10 ** 5 == 0:\n",
    "            group -= 9 * 5\n",
    "        elif i % 10 ** 4 == 0:\n",
    "            group -= 9 * 4\n",
    "        elif i % 10 ** 3 == 0:\n",
    "            group -= 9 * 3\n",
    "        elif i % 10 ** 2 == 0:\n",
    "            group -= 9 * 2\n",
    "        elif i % 10 ** 1 == 0:\n",
    "            group -= 9\n",
    "        groups[f'group_{group}'] = groups.get(f'group_{group}', 0) + 1\n",
    "    return groups"
   ]
  },
  {
   "cell_type": "code",
   "execution_count": 10,
   "metadata": {},
   "outputs": [
    {
     "name": "stdout",
     "output_type": "stream",
     "text": [
      "{'group_0': 1, 'group_1': 7, 'group_2': 28, 'group_3': 84, 'group_4': 210, 'group_5': 462, 'group_6': 924, 'group_7': 1716, 'group_8': 3002, 'group_9': 4998, 'group_10': 7974, 'group_11': 12250, 'group_12': 18185, 'group_13': 26159, 'group_14': 36550, 'group_15': 49704, 'group_16': 65901, 'group_17': 85315, 'group_18': 107974, 'group_19': 133720, 'group_20': 162183, 'group_21': 192774, 'group_22': 224695, 'group_23': 256967, 'group_24': 288471, 'group_25': 318004, 'group_26': 344346, 'group_27': 366343, 'group_28': 382984, 'group_29': 393483, 'group_30': 397338, 'group_31': 394366, 'group_32': 384710, 'group_33': 368830, 'group_34': 347465, 'group_35': 321589, 'group_36': 292338, 'group_37': 260933, 'group_38': 228599, 'group_39': 196484, 'group_40': 165596, 'group_41': 136758, 'group_42': 110586, 'group_43': 87480, 'group_44': 67630, 'group_45': 51035, 'group_46': 37538, 'group_47': 26866, 'group_48': 18670, 'group_49': 12565, 'group_50': 8164, 'group_51': 5102, 'group_52': 3052, 'group_53': 1736, 'group_54': 930, 'group_55': 463, 'group_56': 210, 'group_57': 84, 'group_58': 28, 'group_59': 7, 'group_60': 1}\n",
      "\n",
      "{'group_25': 318242, 'group_26': 344770, 'group_27': 366933, 'group_19': 132944, 'group_20': 161522, 'group_21': 192260, 'group_22': 224353, 'group_23': 256813, 'group_24': 288513, 'group_28': 383711, 'group_11': 11704, 'group_12': 17541, 'group_13': 25426, 'group_14': 35743, 'group_15': 48843, 'group_16': 65011, 'group_17': 84426, 'group_18': 107121, 'group_29': 394310, 'group_30': 398225, 'group_31': 395275, 'group_5': 372, 'group_6': 788, 'group_7': 1522, 'group_8': 2737, 'group_9': 4648, 'group_10': 7528, 'group_32': 385606, 'group_33': 369681, 'group_34': 348246, 'group_35': 322281, 'group_36': 292931, 'group_37': 261423, 'group_2': 14, 'group_3': 54, 'group_4': 155, 'group_38': 228989, 'group_39': 196783, 'group_40': 165816, 'group_41': 136913, 'group_42': 110690, 'group_43': 87546, 'group_44': 67669, 'group_45': 51056, 'group_1': 2, 'group_46': 37548, 'group_47': 26870, 'group_48': 18671, 'group_49': 12565, 'group_50': 8164, 'group_51': 5102, 'group_52': 3052, 'group_53': 1736, 'group_54': 930, 'group_55': 463, 'group_56': 210, 'group_57': 84, 'group_58': 28, 'group_59': 7, 'group_60': 1}\n",
      "\n",
      "CPU times: total: 11.2 s\n",
      "Wall time: 11.2 s\n"
     ]
    }
   ],
   "source": [
    "%%time\n",
    "\n",
    "print(func_1_v_3(n_customers))\n",
    "print()\n",
    "print(func_2_v_3(n_customers, n_first_id))\n",
    "print()"
   ]
  },
  {
   "cell_type": "code",
   "execution_count": 11,
   "metadata": {},
   "outputs": [],
   "source": [
    "def func_1_v_4(n_customers: int) -> dict:\n",
    "    number_of_characters = len(str(n_customers))\n",
    "    groups = {'group_0': 1}\n",
    "    group = 0\n",
    "    for i in range(1, 7412567):\n",
    "        group += 1\n",
    "        for k in range(number_of_characters, 0, -1):\n",
    "            if i % 10 ** k == 0:\n",
    "                group -= 9 * k\n",
    "                break\n",
    "        groups[f'group_{group}'] = groups.get(f'group_{group}', 0) + 1\n",
    "    return groups"
   ]
  },
  {
   "cell_type": "code",
   "execution_count": 12,
   "metadata": {},
   "outputs": [],
   "source": [
    "def func_2_v_4(n_customers: int, n_first_id: int) -> dict:\n",
    "    number_of_characters = len(str(n_first_id+n_customers))\n",
    "    group = 0\n",
    "    s = n_first_id\n",
    "    while s > 0:\n",
    "        group += s % 10\n",
    "        s //= 10\n",
    "    groups = {f'group_{group}': 1}\n",
    "    for i in range(n_first_id+1, n_first_id+n_customers):\n",
    "        group += 1\n",
    "        for k in range(number_of_characters, 0, -1):\n",
    "            if i % 10 ** k == 0:\n",
    "                group -= 9 * k\n",
    "                break\n",
    "        groups[f'group_{group}'] = groups.get(f'group_{group}', 0) + 1\n",
    "    return groups"
   ]
  },
  {
   "cell_type": "code",
   "execution_count": 13,
   "metadata": {},
   "outputs": [
    {
     "name": "stdout",
     "output_type": "stream",
     "text": [
      "{'group_0': 1, 'group_1': 7, 'group_2': 28, 'group_3': 84, 'group_4': 210, 'group_5': 462, 'group_6': 924, 'group_7': 1716, 'group_8': 3002, 'group_9': 4998, 'group_10': 7974, 'group_11': 12250, 'group_12': 18185, 'group_13': 26159, 'group_14': 36550, 'group_15': 49704, 'group_16': 65901, 'group_17': 85315, 'group_18': 107974, 'group_19': 133720, 'group_20': 162183, 'group_21': 192774, 'group_22': 224695, 'group_23': 256967, 'group_24': 288471, 'group_25': 318004, 'group_26': 344346, 'group_27': 366343, 'group_28': 382984, 'group_29': 393483, 'group_30': 397338, 'group_31': 394366, 'group_32': 384710, 'group_33': 368830, 'group_34': 347465, 'group_35': 321589, 'group_36': 292338, 'group_37': 260933, 'group_38': 228599, 'group_39': 196484, 'group_40': 165596, 'group_41': 136758, 'group_42': 110586, 'group_43': 87480, 'group_44': 67630, 'group_45': 51035, 'group_46': 37538, 'group_47': 26866, 'group_48': 18670, 'group_49': 12565, 'group_50': 8164, 'group_51': 5102, 'group_52': 3052, 'group_53': 1736, 'group_54': 930, 'group_55': 463, 'group_56': 210, 'group_57': 84, 'group_58': 28, 'group_59': 7, 'group_60': 1}\n",
      "\n",
      "{'group_25': 318242, 'group_26': 344770, 'group_27': 366933, 'group_19': 132944, 'group_20': 161522, 'group_21': 192260, 'group_22': 224353, 'group_23': 256813, 'group_24': 288513, 'group_28': 383711, 'group_11': 11704, 'group_12': 17541, 'group_13': 25426, 'group_14': 35743, 'group_15': 48843, 'group_16': 65011, 'group_17': 84426, 'group_18': 107121, 'group_29': 394310, 'group_30': 398225, 'group_31': 395275, 'group_5': 372, 'group_6': 788, 'group_7': 1522, 'group_8': 2737, 'group_9': 4648, 'group_10': 7528, 'group_32': 385606, 'group_33': 369681, 'group_34': 348246, 'group_35': 322281, 'group_36': 292931, 'group_37': 261423, 'group_2': 14, 'group_3': 54, 'group_4': 155, 'group_38': 228989, 'group_39': 196783, 'group_40': 165816, 'group_41': 136913, 'group_42': 110690, 'group_43': 87546, 'group_44': 67669, 'group_45': 51056, 'group_1': 2, 'group_46': 37548, 'group_47': 26870, 'group_48': 18671, 'group_49': 12565, 'group_50': 8164, 'group_51': 5102, 'group_52': 3052, 'group_53': 1736, 'group_54': 930, 'group_55': 463, 'group_56': 210, 'group_57': 84, 'group_58': 28, 'group_59': 7, 'group_60': 1}\n",
      "\n",
      "CPU times: total: 32.7 s\n",
      "Wall time: 32.7 s\n"
     ]
    }
   ],
   "source": [
    "%%time\n",
    "\n",
    "print(func_1_v_4(n_customers))\n",
    "print()\n",
    "print(func_2_v_4(n_customers, n_first_id))\n",
    "print()"
   ]
  }
 ],
 "metadata": {
  "kernelspec": {
   "display_name": "Python 3.10.7 64-bit",
   "language": "python",
   "name": "python3"
  },
  "language_info": {
   "codemirror_mode": {
    "name": "ipython",
    "version": 3
   },
   "file_extension": ".py",
   "mimetype": "text/x-python",
   "name": "python",
   "nbconvert_exporter": "python",
   "pygments_lexer": "ipython3",
   "version": "3.10.7"
  },
  "orig_nbformat": 4,
  "vscode": {
   "interpreter": {
    "hash": "6f6e3b0ee54f96a09601f5bd9d9e22617a546e266b81c92c7eca224313b467ca"
   }
  }
 },
 "nbformat": 4,
 "nbformat_minor": 2
}
